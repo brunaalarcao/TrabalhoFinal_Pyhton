{
 "cells": [
  {
   "attachments": {},
   "cell_type": "markdown",
   "metadata": {},
   "source": [
    "# Projeto: Análise e Previsão do Preço de Notebooks\n",
    "***"
   ]
  },
  {
   "attachments": {},
   "cell_type": "markdown",
   "metadata": {},
   "source": [
    "# Parte 1: Importação e Limpeza dos Dados\n",
    "***"
   ]
  },
  {
   "attachments": {},
   "cell_type": "markdown",
   "metadata": {},
   "source": [
    "#### 1. Importação das bibliotecas necessárias\n",
    "- Importe todas as bibliotecas relevantes para o projeto, como `pandas`, `numpy`, `matplotlib`, `sklearn` e outras que forem pertinentes.\n",
    "***"
   ]
  },
  {
   "cell_type": "code",
   "execution_count": 1,
   "metadata": {},
   "outputs": [],
   "source": [
    "import pandas as pd\n",
    "import numpy as np\n",
    "from sklearn.model_selection import train_test_split\n",
    "from sklearn.preprocessing import LabelEncoder, MinMaxScaler\n",
    "from sklearn.neural_network import MLPRegressor\n",
    "from sklearn.metrics import mean_squared_error\n"
   ]
  },
  {
   "attachments": {},
   "cell_type": "markdown",
   "metadata": {},
   "source": [
    "#### 2. Carregamento dos dados\n",
    "- Os dados a serem analisados serão obtidos a partir da base de dados `preco_notebooks.csv`, que contém informações diversas sobre notebooks, bem como o respectivo preço.\n",
    "***"
   ]
  },
  {
   "cell_type": "code",
   "execution_count": 2,
   "metadata": {},
   "outputs": [],
   "source": [
    "df = pd.read_csv('preco_notebooks.csv')\n"
   ]
  },
  {
   "attachments": {},
   "cell_type": "markdown",
   "metadata": {},
   "source": [
    "# Parte 2: Análise Exploratória de Dados (EDA)\n",
    "***"
   ]
  },
  {
   "attachments": {},
   "cell_type": "markdown",
   "metadata": {},
   "source": [
    "#### 3. Análise descritiva\n",
    "- Realize uma análise descritiva inicial dos dados, gerando estatísticas resumidas (média, mediana, moda, etc.), valores núlos...\n",
    "***"
   ]
  },
  {
   "cell_type": "code",
   "execution_count": 3,
   "metadata": {},
   "outputs": [
    {
     "data": {
      "text/html": [
       "<div>\n",
       "<style scoped>\n",
       "    .dataframe tbody tr th:only-of-type {\n",
       "        vertical-align: middle;\n",
       "    }\n",
       "\n",
       "    .dataframe tbody tr th {\n",
       "        vertical-align: top;\n",
       "    }\n",
       "\n",
       "    .dataframe thead th {\n",
       "        text-align: right;\n",
       "    }\n",
       "</style>\n",
       "<table border=\"1\" class=\"dataframe\">\n",
       "  <thead>\n",
       "    <tr style=\"text-align: right;\">\n",
       "      <th></th>\n",
       "      <th>marca</th>\n",
       "      <th>ano</th>\n",
       "      <th>qtd_nucleos</th>\n",
       "      <th>qtd_threads</th>\n",
       "      <th>ram</th>\n",
       "      <th>gpu_dedicada</th>\n",
       "      <th>ram_gpu</th>\n",
       "      <th>entradas_usb</th>\n",
       "      <th>duracao_bateria</th>\n",
       "      <th>resolucao_tela</th>\n",
       "      <th>tipo_tela</th>\n",
       "      <th>tela_touch</th>\n",
       "      <th>armazenamento_hdd</th>\n",
       "      <th>armazenamento_ssd</th>\n",
       "      <th>segmento</th>\n",
       "      <th>valor</th>\n",
       "    </tr>\n",
       "  </thead>\n",
       "  <tbody>\n",
       "    <tr>\n",
       "      <th>0</th>\n",
       "      <td>xiaomi</td>\n",
       "      <td>2010.0</td>\n",
       "      <td>12</td>\n",
       "      <td>17</td>\n",
       "      <td>16</td>\n",
       "      <td>não</td>\n",
       "      <td>0</td>\n",
       "      <td>3</td>\n",
       "      <td>580.0</td>\n",
       "      <td>QUADHD</td>\n",
       "      <td>OLED</td>\n",
       "      <td>não</td>\n",
       "      <td>250</td>\n",
       "      <td>250</td>\n",
       "      <td>premium</td>\n",
       "      <td>24557</td>\n",
       "    </tr>\n",
       "    <tr>\n",
       "      <th>1</th>\n",
       "      <td>asus</td>\n",
       "      <td>NaN</td>\n",
       "      <td>6</td>\n",
       "      <td>9</td>\n",
       "      <td>4</td>\n",
       "      <td>não</td>\n",
       "      <td>0</td>\n",
       "      <td>3</td>\n",
       "      <td>275.0</td>\n",
       "      <td>FULLHD</td>\n",
       "      <td>IPS</td>\n",
       "      <td>sim</td>\n",
       "      <td>0</td>\n",
       "      <td>2000</td>\n",
       "      <td>2em1</td>\n",
       "      <td>10644</td>\n",
       "    </tr>\n",
       "    <tr>\n",
       "      <th>2</th>\n",
       "      <td>huawei</td>\n",
       "      <td>2019.0</td>\n",
       "      <td>12</td>\n",
       "      <td>24</td>\n",
       "      <td>8</td>\n",
       "      <td>não</td>\n",
       "      <td>0</td>\n",
       "      <td>3</td>\n",
       "      <td>491.0</td>\n",
       "      <td>4K</td>\n",
       "      <td>OLED</td>\n",
       "      <td>NaN</td>\n",
       "      <td>0</td>\n",
       "      <td>250</td>\n",
       "      <td>premium</td>\n",
       "      <td>19990</td>\n",
       "    </tr>\n",
       "    <tr>\n",
       "      <th>3</th>\n",
       "      <td>xiaomi</td>\n",
       "      <td>2015.0</td>\n",
       "      <td>4</td>\n",
       "      <td>5</td>\n",
       "      <td>8</td>\n",
       "      <td>não</td>\n",
       "      <td>0</td>\n",
       "      <td>2</td>\n",
       "      <td>516.0</td>\n",
       "      <td>QUADHD</td>\n",
       "      <td>OLED</td>\n",
       "      <td>não</td>\n",
       "      <td>0</td>\n",
       "      <td>2000</td>\n",
       "      <td>premium</td>\n",
       "      <td>15632</td>\n",
       "    </tr>\n",
       "    <tr>\n",
       "      <th>4</th>\n",
       "      <td>acer</td>\n",
       "      <td>2021.0</td>\n",
       "      <td>12</td>\n",
       "      <td>20</td>\n",
       "      <td>16</td>\n",
       "      <td>não</td>\n",
       "      <td>0</td>\n",
       "      <td>2</td>\n",
       "      <td>585.0</td>\n",
       "      <td>FULLHD</td>\n",
       "      <td>TN</td>\n",
       "      <td>não</td>\n",
       "      <td>0</td>\n",
       "      <td>250</td>\n",
       "      <td>ultraportatil</td>\n",
       "      <td>19781</td>\n",
       "    </tr>\n",
       "  </tbody>\n",
       "</table>\n",
       "</div>"
      ],
      "text/plain": [
       "    marca     ano  qtd_nucleos  qtd_threads  ram gpu_dedicada  ram_gpu  \\\n",
       "0  xiaomi  2010.0           12           17   16          não        0   \n",
       "1    asus     NaN            6            9    4          não        0   \n",
       "2  huawei  2019.0           12           24    8          não        0   \n",
       "3  xiaomi  2015.0            4            5    8          não        0   \n",
       "4    acer  2021.0           12           20   16          não        0   \n",
       "\n",
       "   entradas_usb  duracao_bateria resolucao_tela tipo_tela tela_touch  \\\n",
       "0             3            580.0         QUADHD      OLED        não   \n",
       "1             3            275.0         FULLHD       IPS        sim   \n",
       "2             3            491.0             4K      OLED        NaN   \n",
       "3             2            516.0         QUADHD      OLED        não   \n",
       "4             2            585.0         FULLHD        TN        não   \n",
       "\n",
       "   armazenamento_hdd  armazenamento_ssd       segmento  valor  \n",
       "0                250                250        premium  24557  \n",
       "1                  0               2000           2em1  10644  \n",
       "2                  0                250        premium  19990  \n",
       "3                  0               2000        premium  15632  \n",
       "4                  0                250  ultraportatil  19781  "
      ]
     },
     "execution_count": 3,
     "metadata": {},
     "output_type": "execute_result"
    }
   ],
   "source": [
    "df.head()"
   ]
  },
  {
   "cell_type": "code",
   "execution_count": 4,
   "metadata": {},
   "outputs": [
    {
     "name": "stdout",
     "output_type": "stream",
     "text": [
      "<class 'pandas.core.frame.DataFrame'>\n",
      "RangeIndex: 50000 entries, 0 to 49999\n",
      "Data columns (total 16 columns):\n",
      " #   Column             Non-Null Count  Dtype  \n",
      "---  ------             --------------  -----  \n",
      " 0   marca              49650 non-null  object \n",
      " 1   ano                45253 non-null  float64\n",
      " 2   qtd_nucleos        50000 non-null  int64  \n",
      " 3   qtd_threads        50000 non-null  int64  \n",
      " 4   ram                50000 non-null  int64  \n",
      " 5   gpu_dedicada       50000 non-null  object \n",
      " 6   ram_gpu            50000 non-null  int64  \n",
      " 7   entradas_usb       50000 non-null  int64  \n",
      " 8   duracao_bateria    46613 non-null  float64\n",
      " 9   resolucao_tela     50000 non-null  object \n",
      " 10  tipo_tela          50000 non-null  object \n",
      " 11  tela_touch         22572 non-null  object \n",
      " 12  armazenamento_hdd  50000 non-null  int64  \n",
      " 13  armazenamento_ssd  50000 non-null  int64  \n",
      " 14  segmento           50000 non-null  object \n",
      " 15  valor              50000 non-null  int64  \n",
      "dtypes: float64(2), int64(8), object(6)\n",
      "memory usage: 6.1+ MB\n"
     ]
    }
   ],
   "source": [
    "df.info()"
   ]
  },
  {
   "cell_type": "code",
   "execution_count": 5,
   "metadata": {},
   "outputs": [
    {
     "data": {
      "text/html": [
       "<div>\n",
       "<style scoped>\n",
       "    .dataframe tbody tr th:only-of-type {\n",
       "        vertical-align: middle;\n",
       "    }\n",
       "\n",
       "    .dataframe tbody tr th {\n",
       "        vertical-align: top;\n",
       "    }\n",
       "\n",
       "    .dataframe thead th {\n",
       "        text-align: right;\n",
       "    }\n",
       "</style>\n",
       "<table border=\"1\" class=\"dataframe\">\n",
       "  <thead>\n",
       "    <tr style=\"text-align: right;\">\n",
       "      <th></th>\n",
       "      <th>ano</th>\n",
       "      <th>qtd_nucleos</th>\n",
       "      <th>qtd_threads</th>\n",
       "      <th>ram</th>\n",
       "      <th>ram_gpu</th>\n",
       "      <th>entradas_usb</th>\n",
       "      <th>duracao_bateria</th>\n",
       "      <th>armazenamento_hdd</th>\n",
       "      <th>armazenamento_ssd</th>\n",
       "      <th>valor</th>\n",
       "    </tr>\n",
       "  </thead>\n",
       "  <tbody>\n",
       "    <tr>\n",
       "      <th>count</th>\n",
       "      <td>45253.000000</td>\n",
       "      <td>50000.000000</td>\n",
       "      <td>50000.000000</td>\n",
       "      <td>50000.000000</td>\n",
       "      <td>50000.000000</td>\n",
       "      <td>50000.00000</td>\n",
       "      <td>46613.000000</td>\n",
       "      <td>50000.000000</td>\n",
       "      <td>50000.000000</td>\n",
       "      <td>50000.000000</td>\n",
       "    </tr>\n",
       "    <tr>\n",
       "      <th>mean</th>\n",
       "      <td>2016.517535</td>\n",
       "      <td>7.310240</td>\n",
       "      <td>10.979940</td>\n",
       "      <td>13.763800</td>\n",
       "      <td>1.218120</td>\n",
       "      <td>2.61608</td>\n",
       "      <td>344.437625</td>\n",
       "      <td>332.890000</td>\n",
       "      <td>611.962500</td>\n",
       "      <td>15206.780300</td>\n",
       "    </tr>\n",
       "    <tr>\n",
       "      <th>std</th>\n",
       "      <td>4.024151</td>\n",
       "      <td>2.927621</td>\n",
       "      <td>5.069905</td>\n",
       "      <td>10.651768</td>\n",
       "      <td>2.331397</td>\n",
       "      <td>0.88615</td>\n",
       "      <td>191.848591</td>\n",
       "      <td>575.020313</td>\n",
       "      <td>646.814273</td>\n",
       "      <td>6110.432603</td>\n",
       "    </tr>\n",
       "    <tr>\n",
       "      <th>min</th>\n",
       "      <td>2010.000000</td>\n",
       "      <td>2.000000</td>\n",
       "      <td>2.000000</td>\n",
       "      <td>2.000000</td>\n",
       "      <td>0.000000</td>\n",
       "      <td>1.00000</td>\n",
       "      <td>30.000000</td>\n",
       "      <td>0.000000</td>\n",
       "      <td>0.000000</td>\n",
       "      <td>2567.000000</td>\n",
       "    </tr>\n",
       "    <tr>\n",
       "      <th>25%</th>\n",
       "      <td>2013.000000</td>\n",
       "      <td>4.000000</td>\n",
       "      <td>7.000000</td>\n",
       "      <td>8.000000</td>\n",
       "      <td>0.000000</td>\n",
       "      <td>2.00000</td>\n",
       "      <td>149.000000</td>\n",
       "      <td>0.000000</td>\n",
       "      <td>250.000000</td>\n",
       "      <td>9766.750000</td>\n",
       "    </tr>\n",
       "    <tr>\n",
       "      <th>50%</th>\n",
       "      <td>2017.000000</td>\n",
       "      <td>8.000000</td>\n",
       "      <td>10.000000</td>\n",
       "      <td>12.000000</td>\n",
       "      <td>0.000000</td>\n",
       "      <td>3.00000</td>\n",
       "      <td>418.000000</td>\n",
       "      <td>0.000000</td>\n",
       "      <td>250.000000</td>\n",
       "      <td>15941.000000</td>\n",
       "    </tr>\n",
       "    <tr>\n",
       "      <th>75%</th>\n",
       "      <td>2020.000000</td>\n",
       "      <td>10.000000</td>\n",
       "      <td>15.000000</td>\n",
       "      <td>16.000000</td>\n",
       "      <td>0.000000</td>\n",
       "      <td>3.00000</td>\n",
       "      <td>521.000000</td>\n",
       "      <td>500.000000</td>\n",
       "      <td>1000.000000</td>\n",
       "      <td>20146.000000</td>\n",
       "    </tr>\n",
       "    <tr>\n",
       "      <th>max</th>\n",
       "      <td>2023.000000</td>\n",
       "      <td>12.000000</td>\n",
       "      <td>24.000000</td>\n",
       "      <td>64.000000</td>\n",
       "      <td>12.000000</td>\n",
       "      <td>4.00000</td>\n",
       "      <td>600.000000</td>\n",
       "      <td>2000.000000</td>\n",
       "      <td>2000.000000</td>\n",
       "      <td>28279.000000</td>\n",
       "    </tr>\n",
       "  </tbody>\n",
       "</table>\n",
       "</div>"
      ],
      "text/plain": [
       "                ano   qtd_nucleos   qtd_threads           ram       ram_gpu  \\\n",
       "count  45253.000000  50000.000000  50000.000000  50000.000000  50000.000000   \n",
       "mean    2016.517535      7.310240     10.979940     13.763800      1.218120   \n",
       "std        4.024151      2.927621      5.069905     10.651768      2.331397   \n",
       "min     2010.000000      2.000000      2.000000      2.000000      0.000000   \n",
       "25%     2013.000000      4.000000      7.000000      8.000000      0.000000   \n",
       "50%     2017.000000      8.000000     10.000000     12.000000      0.000000   \n",
       "75%     2020.000000     10.000000     15.000000     16.000000      0.000000   \n",
       "max     2023.000000     12.000000     24.000000     64.000000     12.000000   \n",
       "\n",
       "       entradas_usb  duracao_bateria  armazenamento_hdd  armazenamento_ssd  \\\n",
       "count   50000.00000     46613.000000       50000.000000       50000.000000   \n",
       "mean        2.61608       344.437625         332.890000         611.962500   \n",
       "std         0.88615       191.848591         575.020313         646.814273   \n",
       "min         1.00000        30.000000           0.000000           0.000000   \n",
       "25%         2.00000       149.000000           0.000000         250.000000   \n",
       "50%         3.00000       418.000000           0.000000         250.000000   \n",
       "75%         3.00000       521.000000         500.000000        1000.000000   \n",
       "max         4.00000       600.000000        2000.000000        2000.000000   \n",
       "\n",
       "              valor  \n",
       "count  50000.000000  \n",
       "mean   15206.780300  \n",
       "std     6110.432603  \n",
       "min     2567.000000  \n",
       "25%     9766.750000  \n",
       "50%    15941.000000  \n",
       "75%    20146.000000  \n",
       "max    28279.000000  "
      ]
     },
     "execution_count": 5,
     "metadata": {},
     "output_type": "execute_result"
    }
   ],
   "source": [
    "df.describe()"
   ]
  },
  {
   "cell_type": "code",
   "execution_count": 6,
   "metadata": {},
   "outputs": [
    {
     "data": {
      "text/html": [
       "<div>\n",
       "<style scoped>\n",
       "    .dataframe tbody tr th:only-of-type {\n",
       "        vertical-align: middle;\n",
       "    }\n",
       "\n",
       "    .dataframe tbody tr th {\n",
       "        vertical-align: top;\n",
       "    }\n",
       "\n",
       "    .dataframe thead th {\n",
       "        text-align: right;\n",
       "    }\n",
       "</style>\n",
       "<table border=\"1\" class=\"dataframe\">\n",
       "  <thead>\n",
       "    <tr style=\"text-align: right;\">\n",
       "      <th></th>\n",
       "      <th>marca</th>\n",
       "      <th>gpu_dedicada</th>\n",
       "      <th>resolucao_tela</th>\n",
       "      <th>tipo_tela</th>\n",
       "      <th>tela_touch</th>\n",
       "      <th>segmento</th>\n",
       "    </tr>\n",
       "  </thead>\n",
       "  <tbody>\n",
       "    <tr>\n",
       "      <th>count</th>\n",
       "      <td>49650</td>\n",
       "      <td>50000</td>\n",
       "      <td>50000</td>\n",
       "      <td>50000</td>\n",
       "      <td>22572</td>\n",
       "      <td>50000</td>\n",
       "    </tr>\n",
       "    <tr>\n",
       "      <th>unique</th>\n",
       "      <td>11</td>\n",
       "      <td>2</td>\n",
       "      <td>4</td>\n",
       "      <td>5</td>\n",
       "      <td>2</td>\n",
       "      <td>8</td>\n",
       "    </tr>\n",
       "    <tr>\n",
       "      <th>top</th>\n",
       "      <td>lenovo</td>\n",
       "      <td>não</td>\n",
       "      <td>FULLHD</td>\n",
       "      <td>OLED</td>\n",
       "      <td>não</td>\n",
       "      <td>premium</td>\n",
       "    </tr>\n",
       "    <tr>\n",
       "      <th>freq</th>\n",
       "      <td>4582</td>\n",
       "      <td>37865</td>\n",
       "      <td>20602</td>\n",
       "      <td>15190</td>\n",
       "      <td>20705</td>\n",
       "      <td>19065</td>\n",
       "    </tr>\n",
       "  </tbody>\n",
       "</table>\n",
       "</div>"
      ],
      "text/plain": [
       "         marca gpu_dedicada resolucao_tela tipo_tela tela_touch segmento\n",
       "count    49650        50000          50000     50000      22572    50000\n",
       "unique      11            2              4         5          2        8\n",
       "top     lenovo          não         FULLHD      OLED        não  premium\n",
       "freq      4582        37865          20602     15190      20705    19065"
      ]
     },
     "execution_count": 6,
     "metadata": {},
     "output_type": "execute_result"
    }
   ],
   "source": [
    "df.describe(include='O')"
   ]
  },
  {
   "cell_type": "code",
   "execution_count": 7,
   "metadata": {},
   "outputs": [
    {
     "data": {
      "text/plain": [
       "marca                  350\n",
       "ano                   4747\n",
       "qtd_nucleos              0\n",
       "qtd_threads              0\n",
       "ram                      0\n",
       "gpu_dedicada             0\n",
       "ram_gpu                  0\n",
       "entradas_usb             0\n",
       "duracao_bateria       3387\n",
       "resolucao_tela           0\n",
       "tipo_tela                0\n",
       "tela_touch           27428\n",
       "armazenamento_hdd        0\n",
       "armazenamento_ssd        0\n",
       "segmento                 0\n",
       "valor                    0\n",
       "dtype: int64"
      ]
     },
     "execution_count": 7,
     "metadata": {},
     "output_type": "execute_result"
    }
   ],
   "source": [
    "df.isnull().sum()\n"
   ]
  },
  {
   "attachments": {},
   "cell_type": "markdown",
   "metadata": {},
   "source": [
    "#### 4. Análise dos atributos dos notebooks\n",
    "- Quais marcas tendem a ser mais caras?\n",
    "***"
   ]
  },
  {
   "attachments": {},
   "cell_type": "markdown",
   "metadata": {},
   "source": [
    "# Parte 3: Pré-processamento de Dados\n",
    "***"
   ]
  },
  {
   "attachments": {},
   "cell_type": "markdown",
   "metadata": {},
   "source": [
    "#### 5. Tratamento de dados núlos\n",
    "- Verifique a presença de valores nulos nos dados e trate-os de maneira adequada.\n",
    "***"
   ]
  },
  {
   "cell_type": "code",
   "execution_count": 8,
   "metadata": {},
   "outputs": [],
   "source": [
    "for col in df.columns:\n",
    "    if df[col].dtype == 'object':\n",
    "        df[col].fillna(df[col].mode()[0], inplace=True)\n",
    "    else:\n",
    "        df[col].fillna(round(df[col].mean()), inplace=True)\n"
   ]
  },
  {
   "cell_type": "code",
   "execution_count": 9,
   "metadata": {},
   "outputs": [
    {
     "data": {
      "text/plain": [
       "marca                0\n",
       "ano                  0\n",
       "qtd_nucleos          0\n",
       "qtd_threads          0\n",
       "ram                  0\n",
       "gpu_dedicada         0\n",
       "ram_gpu              0\n",
       "entradas_usb         0\n",
       "duracao_bateria      0\n",
       "resolucao_tela       0\n",
       "tipo_tela            0\n",
       "tela_touch           0\n",
       "armazenamento_hdd    0\n",
       "armazenamento_ssd    0\n",
       "segmento             0\n",
       "valor                0\n",
       "dtype: int64"
      ]
     },
     "execution_count": 9,
     "metadata": {},
     "output_type": "execute_result"
    }
   ],
   "source": [
    "df.isnull().sum()\n"
   ]
  },
  {
   "cell_type": "code",
   "execution_count": 10,
   "metadata": {},
   "outputs": [],
   "source": [
    "le = LabelEncoder()\n",
    "categorical_features = df.select_dtypes(include=['object']).columns\n",
    "for col in categorical_features:\n",
    "    df[col] = le.fit_transform(df[col])\n"
   ]
  },
  {
   "attachments": {},
   "cell_type": "markdown",
   "metadata": {},
   "source": [
    "#### 6. Manipulação de variáveis categóricas\n",
    "- Trate as variáveis categóricas presentes no dataset (colunas do tipo object), como a `marca` e `segmento`. Utilize a função `.loc` do pandas ou o `LabelEncoder` do sklearn.\n",
    "***"
   ]
  },
  {
   "cell_type": "code",
   "execution_count": 11,
   "metadata": {},
   "outputs": [],
   "source": [
    "scaler = MinMaxScaler()\n",
    "numerical_features = df.select_dtypes(include=['int64', 'float64']).columns\n",
    "df[numerical_features] = scaler.fit_transform(df[numerical_features])"
   ]
  },
  {
   "attachments": {},
   "cell_type": "markdown",
   "metadata": {},
   "source": [
    "#### 7. Normalização dos dados\n",
    "- Separe os dados em recursos (X) e alvo (y), sendo o preço do notebook o alvo.\n",
    "- Normalizar o X utilizando a função `MinMaxScaler` do sklearn.\n",
    "- Normalizar o y utilizando a função `MinMaxScaler` do sklearn.\n",
    "***"
   ]
  },
  {
   "cell_type": "code",
   "execution_count": 12,
   "metadata": {},
   "outputs": [],
   "source": [
    "X = df.drop('valor', axis=1)\n",
    "y = df[['valor']]\n",
    "\n",
    "scaler_features = MinMaxScaler()\n",
    "X = scaler_features.fit_transform(X)\n",
    "\n",
    "scaler_target = MinMaxScaler()\n",
    "y = scaler_target.fit_transform(y)"
   ]
  },
  {
   "attachments": {},
   "cell_type": "markdown",
   "metadata": {},
   "source": [
    "#### 8. Separação dos dados\n",
    "- Divida o conjunto de dados em uma parte para treinamento e outra para teste (30%).\n",
    "\n",
    "***"
   ]
  },
  {
   "cell_type": "code",
   "execution_count": 13,
   "metadata": {},
   "outputs": [],
   "source": [
    "X_train, X_test, y_train, y_test = train_test_split(X, y, test_size=0.3, random_state=42)"
   ]
  },
  {
   "attachments": {},
   "cell_type": "markdown",
   "metadata": {},
   "source": [
    "# Parte 4: Modelagem e Avaliação\n",
    "***"
   ]
  },
  {
   "attachments": {},
   "cell_type": "markdown",
   "metadata": {},
   "source": [
    "#### 9. Treinamento de um algoritmo (modelo) de machine learning\n",
    "- Desenvolva e treine um algoritmo simples.\n",
    "***"
   ]
  },
  {
   "cell_type": "code",
   "execution_count": 14,
   "metadata": {},
   "outputs": [
    {
     "name": "stderr",
     "output_type": "stream",
     "text": [
      "c:\\Users\\arthu\\anaconda3\\envs\\tf\\lib\\site-packages\\sklearn\\neural_network\\_multilayer_perceptron.py:1617: DataConversionWarning: A column-vector y was passed when a 1d array was expected. Please change the shape of y to (n_samples, ), for example using ravel().\n",
      "  y = column_or_1d(y, warn=True)\n"
     ]
    },
    {
     "data": {
      "text/html": [
       "<style>#sk-container-id-1 {color: black;background-color: white;}#sk-container-id-1 pre{padding: 0;}#sk-container-id-1 div.sk-toggleable {background-color: white;}#sk-container-id-1 label.sk-toggleable__label {cursor: pointer;display: block;width: 100%;margin-bottom: 0;padding: 0.3em;box-sizing: border-box;text-align: center;}#sk-container-id-1 label.sk-toggleable__label-arrow:before {content: \"▸\";float: left;margin-right: 0.25em;color: #696969;}#sk-container-id-1 label.sk-toggleable__label-arrow:hover:before {color: black;}#sk-container-id-1 div.sk-estimator:hover label.sk-toggleable__label-arrow:before {color: black;}#sk-container-id-1 div.sk-toggleable__content {max-height: 0;max-width: 0;overflow: hidden;text-align: left;background-color: #f0f8ff;}#sk-container-id-1 div.sk-toggleable__content pre {margin: 0.2em;color: black;border-radius: 0.25em;background-color: #f0f8ff;}#sk-container-id-1 input.sk-toggleable__control:checked~div.sk-toggleable__content {max-height: 200px;max-width: 100%;overflow: auto;}#sk-container-id-1 input.sk-toggleable__control:checked~label.sk-toggleable__label-arrow:before {content: \"▾\";}#sk-container-id-1 div.sk-estimator input.sk-toggleable__control:checked~label.sk-toggleable__label {background-color: #d4ebff;}#sk-container-id-1 div.sk-label input.sk-toggleable__control:checked~label.sk-toggleable__label {background-color: #d4ebff;}#sk-container-id-1 input.sk-hidden--visually {border: 0;clip: rect(1px 1px 1px 1px);clip: rect(1px, 1px, 1px, 1px);height: 1px;margin: -1px;overflow: hidden;padding: 0;position: absolute;width: 1px;}#sk-container-id-1 div.sk-estimator {font-family: monospace;background-color: #f0f8ff;border: 1px dotted black;border-radius: 0.25em;box-sizing: border-box;margin-bottom: 0.5em;}#sk-container-id-1 div.sk-estimator:hover {background-color: #d4ebff;}#sk-container-id-1 div.sk-parallel-item::after {content: \"\";width: 100%;border-bottom: 1px solid gray;flex-grow: 1;}#sk-container-id-1 div.sk-label:hover label.sk-toggleable__label {background-color: #d4ebff;}#sk-container-id-1 div.sk-serial::before {content: \"\";position: absolute;border-left: 1px solid gray;box-sizing: border-box;top: 0;bottom: 0;left: 50%;z-index: 0;}#sk-container-id-1 div.sk-serial {display: flex;flex-direction: column;align-items: center;background-color: white;padding-right: 0.2em;padding-left: 0.2em;position: relative;}#sk-container-id-1 div.sk-item {position: relative;z-index: 1;}#sk-container-id-1 div.sk-parallel {display: flex;align-items: stretch;justify-content: center;background-color: white;position: relative;}#sk-container-id-1 div.sk-item::before, #sk-container-id-1 div.sk-parallel-item::before {content: \"\";position: absolute;border-left: 1px solid gray;box-sizing: border-box;top: 0;bottom: 0;left: 50%;z-index: -1;}#sk-container-id-1 div.sk-parallel-item {display: flex;flex-direction: column;z-index: 1;position: relative;background-color: white;}#sk-container-id-1 div.sk-parallel-item:first-child::after {align-self: flex-end;width: 50%;}#sk-container-id-1 div.sk-parallel-item:last-child::after {align-self: flex-start;width: 50%;}#sk-container-id-1 div.sk-parallel-item:only-child::after {width: 0;}#sk-container-id-1 div.sk-dashed-wrapped {border: 1px dashed gray;margin: 0 0.4em 0.5em 0.4em;box-sizing: border-box;padding-bottom: 0.4em;background-color: white;}#sk-container-id-1 div.sk-label label {font-family: monospace;font-weight: bold;display: inline-block;line-height: 1.2em;}#sk-container-id-1 div.sk-label-container {text-align: center;}#sk-container-id-1 div.sk-container {/* jupyter's `normalize.less` sets `[hidden] { display: none; }` but bootstrap.min.css set `[hidden] { display: none !important; }` so we also need the `!important` here to be able to override the default hidden behavior on the sphinx rendered scikit-learn.org. See: https://github.com/scikit-learn/scikit-learn/issues/21755 */display: inline-block !important;position: relative;}#sk-container-id-1 div.sk-text-repr-fallback {display: none;}</style><div id=\"sk-container-id-1\" class=\"sk-top-container\"><div class=\"sk-text-repr-fallback\"><pre>MLPRegressor(hidden_layer_sizes=(10, 10), max_iter=1000, random_state=42)</pre><b>In a Jupyter environment, please rerun this cell to show the HTML representation or trust the notebook. <br />On GitHub, the HTML representation is unable to render, please try loading this page with nbviewer.org.</b></div><div class=\"sk-container\" hidden><div class=\"sk-item\"><div class=\"sk-estimator sk-toggleable\"><input class=\"sk-toggleable__control sk-hidden--visually\" id=\"sk-estimator-id-1\" type=\"checkbox\" checked><label for=\"sk-estimator-id-1\" class=\"sk-toggleable__label sk-toggleable__label-arrow\">MLPRegressor</label><div class=\"sk-toggleable__content\"><pre>MLPRegressor(hidden_layer_sizes=(10, 10), max_iter=1000, random_state=42)</pre></div></div></div></div></div>"
      ],
      "text/plain": [
       "MLPRegressor(hidden_layer_sizes=(10, 10), max_iter=1000, random_state=42)"
      ]
     },
     "execution_count": 14,
     "metadata": {},
     "output_type": "execute_result"
    }
   ],
   "source": [
    "model = MLPRegressor(hidden_layer_sizes=(10,10), max_iter=1000, random_state=42)\n",
    "model.fit(X_train, y_train)"
   ]
  },
  {
   "attachments": {},
   "cell_type": "markdown",
   "metadata": {},
   "source": [
    "#### 10. Avaliação do modelo\n",
    "- Após o treinamento, avalie o desempenho do seu modelo. Utilize o conjunto de teste para isso e calcule métricas de avaliação apropriadas.\n",
    "***"
   ]
  },
  {
   "cell_type": "code",
   "execution_count": 15,
   "metadata": {},
   "outputs": [
    {
     "name": "stdout",
     "output_type": "stream",
     "text": [
      "MSE:  0.009431129010921557\n"
     ]
    }
   ],
   "source": [
    "y_pred = model.predict(X_test)\n",
    "y_pred = y_pred.reshape(-1, 1)\n",
    "\n",
    "\n",
    "y_test = scaler_target.inverse_transform(y_test)\n",
    "y_pred = scaler_target.inverse_transform(y_pred)\n",
    "\n",
    "mse = mean_squared_error(y_test, y_pred)\n",
    "\n",
    "print('MSE: ', mse)"
   ]
  }
 ],
 "metadata": {
  "kernelspec": {
   "display_name": "base",
   "language": "python",
   "name": "python3"
  },
  "language_info": {
   "codemirror_mode": {
    "name": "ipython",
    "version": 3
   },
   "file_extension": ".py",
   "mimetype": "text/x-python",
   "name": "python",
   "nbconvert_exporter": "python",
   "pygments_lexer": "ipython3",
   "version": "3.9.16"
  },
  "orig_nbformat": 4
 },
 "nbformat": 4,
 "nbformat_minor": 2
}
